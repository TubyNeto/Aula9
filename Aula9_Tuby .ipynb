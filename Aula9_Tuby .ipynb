{
 "cells": [
  {
   "cell_type": "code",
   "execution_count": null,
   "metadata": {},
   "outputs": [],
   "source": []
  },
  {
   "cell_type": "code",
   "execution_count": 5,
   "metadata": {},
   "outputs": [
    {
     "name": "stdout",
     "output_type": "stream",
     "text": [
      "[[ 3  2  4 -1]\n",
      " [ 0  1  0  3]\n",
      " [ 0 -3 -5  7]\n",
      " [ 0  2  4  0]]\n",
      "[[ 3  2  4 -1]\n",
      " [ 0  2  4  0]\n",
      " [ 0  0 -5  7]\n",
      " [ 0  0  0  3]]\n"
     ]
    }
   ],
   "source": [
    "import numpy as np\n",
    "\n",
    "\n",
    "def func(A, k, i):\n",
    "\n",
    "  #slicing\n",
    "\n",
    "#Localizando o  maior valor na coluna do pivô, depois do pivô\n",
    "  col = A[ i : n + 1, k ]\n",
    "\n",
    "  colAbs = np.abs( col )\n",
    "\n",
    "  indexMax = np.argmax( colAbs )\n",
    "\n",
    "\n",
    "#Trocando a coluna\n",
    "  iChange = indexMax + i\n",
    "\n",
    "  aux = np.copy( A[ k, : ] )\n",
    "\n",
    "  A[ k, : ] = np.copy( A[ iChange, : ] )\n",
    "  A[ iChange, : ] = np.copy( aux )\n",
    "\n",
    "\n",
    "  return A\n",
    "\n",
    "\n",
    "\n",
    "def applyGaussElimination( A, b, n ): #Linha do pivô\n",
    "    for k in np.arange( 1, n ): #\n",
    "        for i in np.arange( k + 1, n + 1 ): #Eliminação em cada linha\n",
    "            A = func(A, k, i)\n",
    "            m = A[ i, k ] / A[ k, k ] #Se for considerada divisão de inteiros dará zero \n",
    "            A[ i, k ] = 0\n",
    "        \n",
    "    return A, b\n",
    "\n",
    "Amat  = np.matrix([[3, 2, 4, -1], [0, 1, 0, 3], [0, -3, -5, 7], [0, 2, 4, 0] ])\n",
    "Aarr  = np.array([[3, 2, 4, -1], [0, 1, 0, 3], [0, -3, -5, 7], [0, 2, 4, 0] ])\n",
    "\n",
    "\n",
    "b=np.array([5, 6, 7, 15])\n",
    "\n",
    "A = Aarr\n",
    "print(A)\n",
    "\n",
    "\n",
    "n = 3\n",
    "\n",
    "\n",
    "x, y=applyGaussElimination( A, b, n )\n",
    "print(x)\n",
    "\n"
   ]
  },
  {
   "cell_type": "code",
   "execution_count": null,
   "metadata": {
    "collapsed": true
   },
   "outputs": [],
   "source": []
  }
 ],
 "metadata": {
  "kernelspec": {
   "display_name": "Python 3",
   "language": "python",
   "name": "python3"
  },
  "language_info": {
   "codemirror_mode": {
    "name": "ipython",
    "version": 3
   },
   "file_extension": ".py",
   "mimetype": "text/x-python",
   "name": "python",
   "nbconvert_exporter": "python",
   "pygments_lexer": "ipython3",
   "version": "3.6.2"
  }
 },
 "nbformat": 4,
 "nbformat_minor": 2
}
